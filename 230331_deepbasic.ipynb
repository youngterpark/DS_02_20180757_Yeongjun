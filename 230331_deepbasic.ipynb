{
  "nbformat": 4,
  "nbformat_minor": 0,
  "metadata": {
    "colab": {
      "private_outputs": true,
      "provenance": [],
      "authorship_tag": "ABX9TyP1GT42UyCfSV7NcXowEhQp",
      "include_colab_link": true
    },
    "kernelspec": {
      "name": "python3",
      "display_name": "Python 3"
    },
    "language_info": {
      "name": "python"
    }
  },
  "cells": [
    {
      "cell_type": "markdown",
      "metadata": {
        "id": "view-in-github",
        "colab_type": "text"
      },
      "source": [
        "<a href=\"https://colab.research.google.com/github/youngterpark/DS_02_20180757_Yeongjun/blob/main/230331_deepbasic.ipynb\" target=\"_parent\"><img src=\"https://colab.research.google.com/assets/colab-badge.svg\" alt=\"Open In Colab\"/></a>"
      ]
    },
    {
      "cell_type": "code",
      "execution_count": null,
      "metadata": {
        "id": "RjT6Pp-NV8Qr"
      },
      "outputs": [],
      "source": [
        "# 1\n",
        "import numpy as np\n",
        "\n",
        "a = np.array([0,0,0,0,0,0])\n",
        "print(a)\n",
        "a[5] = 1\n",
        "print(a)"
      ]
    },
    {
      "cell_type": "code",
      "source": [
        "# 2~5\n",
        "x = np.array([[1,2,3,4],[2,3,4,5],[3,4,5,6],[4,5,6,7],[5,6,7,8]])\n",
        "print(x)"
      ],
      "metadata": {
        "id": "qSuHfO9wYRT9"
      },
      "execution_count": null,
      "outputs": []
    },
    {
      "cell_type": "code",
      "source": [
        "# 2\n",
        "print(x.shape) # 배열의 형상\n",
        "print(x.size) # 배열 전체 요소의 개수\n",
        "print(x.ndim) # 배열의 차원 개수\n",
        "# 행렬 x는 5x4 행렬로 20개의 요소를 저장(x의 크기)할 수 있으며 2차원 행렬(x 차원의 개수)이다."
      ],
      "metadata": {
        "id": "8z3oB2kjY9aJ"
      },
      "execution_count": null,
      "outputs": []
    },
    {
      "cell_type": "code",
      "source": [
        "# 3\n",
        "x = np.array([[1,2,3,4],[2,3,4,5],[3,4,5,6],[4,5,6,7],[5,6,7,8]])\n",
        "print(x)\n",
        "x[:-1:2,1::2] = 0\n",
        "print(x)"
      ],
      "metadata": {
        "id": "_bCC5-rmbCPf"
      },
      "execution_count": null,
      "outputs": []
    },
    {
      "cell_type": "code",
      "source": [
        "# 4\n",
        "x = np.array([[1,2,3,4],[2,3,4,5],[3,4,5,6],[4,5,6,7],[5,6,7,8]])\n",
        "y = x.flatten()\n",
        "print(y)"
      ],
      "metadata": {
        "id": "zb4xeVhRcvIE"
      },
      "execution_count": null,
      "outputs": []
    },
    {
      "cell_type": "code",
      "source": [
        "# 5\n",
        "z = y.reshape(2,10)\n",
        "print(z)"
      ],
      "metadata": {
        "id": "h7qLwG3sdRZ2"
      },
      "execution_count": null,
      "outputs": []
    }
  ]
}